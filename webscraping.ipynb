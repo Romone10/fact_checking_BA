{
 "cells": [
  {
   "cell_type": "markdown",
   "id": "ddde9f60",
   "metadata": {},
   "source": [
    "# rohe beschreibung was in den codes gemacht wird und wieso\n",
    "\n",
    "oft wird rag gebaut mit pdfs, und wenn man so ein system aufbaut kann man sicherlich eine grössere user base ansprechen, welche das system dann auch bauen möchten. in diesem projekt möchte ich aber webscraping von yahoo finance machen, weil viele leute auch yahoo finance lesen und auf yahoo finance viel mehr informationen sind. ich kann dort webscraping machen von bestimmten aktien, fonds oder indexes und dann alle informationen scrapen von kursen, artikeln, stock prices,\n",
    "intraday trading data,\n",
    "option prices;\n",
    "company disclosures and information such as :\n",
    "financial information,\n",
    "earnings,\n",
    "analyst ratings and recommendations,\n",
    "insider trades,\n",
    "SEC filings,\n",
    "news,\n",
    "large shareholders;\n",
    "\n",
    " dann kann ich all das in einen ordner speichern und einen rag bauen auf all diese sachen. das spart einerseits zeit weil man nicht manuell nach pdfs online suchen muss zu den gewünschten themen, sondern man kann alles zeitsparend an einem ort scrapen und dann weiterbenutzen als input für das rag.\n",
    "\n",
    " denn technisch gesehen macht LangChain keinen Unterschied, ob deine Daten ursprünglich aus PDFs, TXTs, Webseiten oder JSON stammen. Wichtig ist nur, was in den vektorstore eingespeist wird, ist reiner text, nicht das ursprüngliche Dateiformat (wie z.b. pdf).\n",
    "\n",
    " Ob du folgenden Text aus einem PDF extrahierst:\n",
    " In 2023, Allianz reported a revenue of €152.7 billion and a net income of €14.2 billion.\n",
    "\n",
    "oder denselben Text aus einem JSON-Feld zusammenstellst wie:\n",
    "{ \"revenue\": \"€152.7 billion\", \"net_income\": \"€14.2 billion\" }\n",
    "\n",
    "ist für den Vektorstore und LangChain völlig egal, solange du am Ende diesen Text als Chunk übergibst.\n",
    "\n",
    "📘 Warum sieht man online meist PDFs?\n",
    "\n",
    "PDFs sind realistische Quellen (z. B. Geschäftsberichte, Studien)\n",
    "Sie demonstrieren komplexere Verarbeitung (PDF → Text → Chunk → Embedding)\n",
    "Viele Nutzer haben genau solche Dateien → Tutorials wollen für die breite Masse relevant sein\n",
    "JSON ist oft maschinenlesbar, aber in der Praxis weniger \"typisch\" für Endnutzer\n",
    "✅ Wann ist JSON sogar besser?\n",
    "\n",
    "Wenn du strukturierte, tabellarische Daten hast (Finanzdaten, ESG-KPIs, Zeitreihen)\n",
    "Wenn du Daten aus APIs sammelst (z. B. von Morningstar, AlphaVantage, Unternehmensdatenbanken)\n",
    "Wenn du dein System voll automatisiert aufbaust ohne manuelles PDF-Verarbeiten\n",
    "Wenn du bestimmte Felder gezielt extrahieren und in Textform bringen willst\n",
    "\n",
    "Ja, du kannst problemlos ein LangChain-basiertes RAG-System mit JSON-Dateien aufbauen.\n",
    "🧱 Die einzige Voraussetzung: Du musst den Inhalt in Klartext-Chunks bringen, damit das LLM damit arbeiten kann.\n",
    "\n",
    "für jede firma und für jeden datensatz (aktienkurs, cashflow etc.) wird jeweils ein json datei generiert aus folgendem grund:\n",
    "\n",
    "1. Modular & skalierbar\n",
    "\n",
    "Wenn jede Bank ihr eigenes Verzeichnis bzw. JSON-Set hat, kannst du:\n",
    "\n",
    "gezielt einzelne Firmen updaten (nur JPM aktualisieren statt alles neu scrapen)\n",
    "schneller auf firmenspezifische Daten zugreifen\n",
    "einfacher firmenspezifische Claims prüfen (z. B. „Wie war der Cashflow von JPM?“)\n",
    "\n",
    "2. Sauberer für Chunking & RAG\n",
    "\n",
    "Ein RAG-System arbeitet oft dokumentenbasiert. Wenn jede Firma ein „Dokument“ bzw. Datensatz ist, kannst du:\n",
    "\n",
    "firmenspezifische Chunks erzeugen\n",
    "Kontext klar steuern: \"Context: JPMorgan\" → keine Gefahr durch „vermischte“ Daten\n",
    "Retrieval filtern nach company_name, ticker, etc.\n",
    "\n",
    "3. Einfachere Annotation / Fact-Checking\n",
    "\n",
    "Für deinen Fragebogen willst du Claims wie:\n",
    "\n",
    "„JPMorgan hatte 2024 einen positiven Free Cash Flow.“\n",
    "→ Da ist es superpraktisch, wenn du direkt auf JPM/cashflow.json zugreifen kannst – statt alles aus einem Riesendokument zu parsen."
   ]
  },
  {
   "cell_type": "markdown",
   "id": "00b328dd",
   "metadata": {},
   "source": [
    "# source .venv/bin/activate "
   ]
  },
  {
   "cell_type": "code",
   "execution_count": 23,
   "id": "108b3698",
   "metadata": {},
   "outputs": [],
   "source": [
    "import yfinance as yf\n",
    "import pandas as pd\n",
    "import matplotlib\n",
    "from datetime import datetime\n",
    "from pytz import timezone\n",
    "import os\n",
    "import json\n"
   ]
  },
  {
   "cell_type": "markdown",
   "id": "0ac9ecfb",
   "metadata": {},
   "source": [
    "# Masterfile, das alles webscraped mit yfinance und in einzelnen json files pro unternehmen abspeichert\n"
   ]
  },
  {
   "cell_type": "code",
   "execution_count": null,
   "id": "95737992",
   "metadata": {},
   "outputs": [
    {
     "name": "stdout",
     "output_type": "stream",
     "text": [
      "\n",
      "🚀 Verarbeite: JPM\n"
     ]
    },
    {
     "name": "stderr",
     "output_type": "stream",
     "text": [
      "[*********************100%***********************]  1 of 1 completed\n"
     ]
    },
    {
     "name": "stdout",
     "output_type": "stream",
     "text": [
      "✅ Gespeichert: data/JPM/shareprices.json\n",
      "✅ Gespeichert: data/JPM/info.json\n",
      "✅ Gespeichert: data/JPM/news.json\n",
      "✅ Gespeichert: data/JPM/earning_dates.json\n",
      "✅ Gespeichert: data/JPM/insider_transactions.json\n",
      "✅ Gespeichert: data/JPM/institutional_holders.json\n",
      "✅ Gespeichert: data/JPM/mutualfund_holders.json\n",
      "✅ Gespeichert: data/JPM/sec_filings.json\n",
      "✅ Gespeichert: data/JPM/cashflow.json\n",
      "✅ Gespeichert: data/JPM/balance_sheet.json\n",
      "✅ Gespeichert: data/JPM/financials.json\n",
      "\n",
      "🚀 Verarbeite: BAC\n"
     ]
    },
    {
     "name": "stderr",
     "output_type": "stream",
     "text": [
      "[*********************100%***********************]  1 of 1 completed\n"
     ]
    },
    {
     "name": "stdout",
     "output_type": "stream",
     "text": [
      "✅ Gespeichert: data/BAC/shareprices.json\n",
      "✅ Gespeichert: data/BAC/info.json\n",
      "✅ Gespeichert: data/BAC/news.json\n",
      "✅ Gespeichert: data/BAC/earning_dates.json\n",
      "✅ Gespeichert: data/BAC/insider_transactions.json\n",
      "✅ Gespeichert: data/BAC/institutional_holders.json\n",
      "✅ Gespeichert: data/BAC/mutualfund_holders.json\n",
      "✅ Gespeichert: data/BAC/sec_filings.json\n",
      "✅ Gespeichert: data/BAC/cashflow.json\n",
      "✅ Gespeichert: data/BAC/balance_sheet.json\n",
      "✅ Gespeichert: data/BAC/financials.json\n",
      "\n",
      "🚀 Verarbeite: C\n"
     ]
    },
    {
     "name": "stderr",
     "output_type": "stream",
     "text": [
      "[*********************100%***********************]  1 of 1 completed\n"
     ]
    },
    {
     "name": "stdout",
     "output_type": "stream",
     "text": [
      "✅ Gespeichert: data/C/shareprices.json\n",
      "✅ Gespeichert: data/C/info.json\n",
      "✅ Gespeichert: data/C/news.json\n",
      "✅ Gespeichert: data/C/earning_dates.json\n",
      "✅ Gespeichert: data/C/insider_transactions.json\n",
      "✅ Gespeichert: data/C/institutional_holders.json\n",
      "✅ Gespeichert: data/C/mutualfund_holders.json\n",
      "✅ Gespeichert: data/C/sec_filings.json\n",
      "✅ Gespeichert: data/C/cashflow.json\n",
      "✅ Gespeichert: data/C/balance_sheet.json\n",
      "✅ Gespeichert: data/C/financials.json\n",
      "\n",
      "🚀 Verarbeite: UBSG.SW\n"
     ]
    },
    {
     "name": "stderr",
     "output_type": "stream",
     "text": [
      "[*********************100%***********************]  1 of 1 completed\n"
     ]
    },
    {
     "name": "stdout",
     "output_type": "stream",
     "text": [
      "✅ Gespeichert: data/UBSG.SW/shareprices.json\n",
      "✅ Gespeichert: data/UBSG.SW/info.json\n",
      "✅ Gespeichert: data/UBSG.SW/news.json\n",
      "✅ Gespeichert: data/UBSG.SW/earning_dates.json\n",
      "⚠️ Leere DataFrame: data/UBSG.SW/insider_transactions.json\n",
      "✅ Gespeichert: data/UBSG.SW/institutional_holders.json\n",
      "✅ Gespeichert: data/UBSG.SW/mutualfund_holders.json\n"
     ]
    },
    {
     "name": "stderr",
     "output_type": "stream",
     "text": [
      "404 Client Error: Not Found for url: https://query2.finance.yahoo.com/v10/finance/quoteSummary/UBSG.SW?modules=secFilings&corsDomain=finance.yahoo.com&formatted=false&symbol=UBSG.SW&crumb=4UXZu7h4SiE\n"
     ]
    },
    {
     "name": "stdout",
     "output_type": "stream",
     "text": [
      "✅ Gespeichert: data/UBSG.SW/sec_filings.json\n",
      "✅ Gespeichert: data/UBSG.SW/cashflow.json\n",
      "✅ Gespeichert: data/UBSG.SW/balance_sheet.json\n",
      "✅ Gespeichert: data/UBSG.SW/financials.json\n",
      "\n",
      "🚀 Verarbeite: HSBA.L\n"
     ]
    },
    {
     "name": "stderr",
     "output_type": "stream",
     "text": [
      "[*********************100%***********************]  1 of 1 completed\n"
     ]
    },
    {
     "name": "stdout",
     "output_type": "stream",
     "text": [
      "✅ Gespeichert: data/HSBA.L/shareprices.json\n",
      "✅ Gespeichert: data/HSBA.L/info.json\n",
      "✅ Gespeichert: data/HSBA.L/news.json\n",
      "✅ Gespeichert: data/HSBA.L/earning_dates.json\n",
      "✅ Gespeichert: data/HSBA.L/insider_transactions.json\n",
      "✅ Gespeichert: data/HSBA.L/institutional_holders.json\n",
      "✅ Gespeichert: data/HSBA.L/mutualfund_holders.json\n"
     ]
    },
    {
     "name": "stderr",
     "output_type": "stream",
     "text": [
      "404 Client Error: Not Found for url: https://query2.finance.yahoo.com/v10/finance/quoteSummary/HSBA.L?modules=secFilings&corsDomain=finance.yahoo.com&formatted=false&symbol=HSBA.L&crumb=4UXZu7h4SiE\n"
     ]
    },
    {
     "name": "stdout",
     "output_type": "stream",
     "text": [
      "✅ Gespeichert: data/HSBA.L/sec_filings.json\n",
      "✅ Gespeichert: data/HSBA.L/cashflow.json\n",
      "✅ Gespeichert: data/HSBA.L/balance_sheet.json\n",
      "✅ Gespeichert: data/HSBA.L/financials.json\n",
      "\n",
      "🚀 Verarbeite: BNP.PA\n"
     ]
    },
    {
     "name": "stderr",
     "output_type": "stream",
     "text": [
      "[*********************100%***********************]  1 of 1 completed\n"
     ]
    },
    {
     "name": "stdout",
     "output_type": "stream",
     "text": [
      "✅ Gespeichert: data/BNP.PA/shareprices.json\n",
      "✅ Gespeichert: data/BNP.PA/info.json\n",
      "✅ Gespeichert: data/BNP.PA/news.json\n",
      "✅ Gespeichert: data/BNP.PA/earning_dates.json\n",
      "⚠️ Leere DataFrame: data/BNP.PA/insider_transactions.json\n",
      "✅ Gespeichert: data/BNP.PA/institutional_holders.json\n",
      "✅ Gespeichert: data/BNP.PA/mutualfund_holders.json\n"
     ]
    },
    {
     "name": "stderr",
     "output_type": "stream",
     "text": [
      "404 Client Error: Not Found for url: https://query2.finance.yahoo.com/v10/finance/quoteSummary/BNP.PA?modules=secFilings&corsDomain=finance.yahoo.com&formatted=false&symbol=BNP.PA&crumb=4UXZu7h4SiE\n"
     ]
    },
    {
     "name": "stdout",
     "output_type": "stream",
     "text": [
      "✅ Gespeichert: data/BNP.PA/sec_filings.json\n",
      "✅ Gespeichert: data/BNP.PA/cashflow.json\n",
      "✅ Gespeichert: data/BNP.PA/balance_sheet.json\n",
      "✅ Gespeichert: data/BNP.PA/financials.json\n"
     ]
    }
   ],
   "source": [
    "# ✅ Tickerliste: einfach erweiterbar\n",
    "tickers = ['JPM', 'BAC', 'C', 'UBSG.SW', 'HSBA.L', 'BNP.PA']\n",
    "\n",
    "# 📁 Basisordner\n",
    "base_path = \"data\"\n",
    "\n",
    "# 🔁 Hilfsfunktion zum Speichern von JSON (inkl. datetime-fix)\n",
    "def save_json(data, path):\n",
    "    def json_converter(o):\n",
    "        if isinstance(o, (datetime.datetime, datetime.date)):\n",
    "            return o.isoformat()\n",
    "        return str(o)  # Fallback für andere exotische Typen\n",
    "\n",
    "    try:\n",
    "        if isinstance(data, pd.DataFrame):\n",
    "            if data.empty:\n",
    "                print(f\"⚠️ Leere DataFrame: {path}\")\n",
    "                return\n",
    "            data = data.reset_index()\n",
    "            data.columns = [str(col) for col in data.columns]\n",
    "            for col in data.columns:\n",
    "                if pd.api.types.is_datetime64_any_dtype(data[col]):\n",
    "                    data[col] = data[col].dt.strftime('%Y-%m-%d')\n",
    "            data = data.to_dict(orient=\"records\")\n",
    "        elif isinstance(data, (dict, list)):\n",
    "            pass\n",
    "        else:\n",
    "            print(f\"⚠️ Nicht serialisierbar: {path}\")\n",
    "            return\n",
    "\n",
    "        with open(path, \"w\", encoding=\"utf-8\") as f:\n",
    "            json.dump(data, f, indent=2, ensure_ascii=False, default=json_converter)\n",
    "\n",
    "        print(f\"✅ Gespeichert: {path}\")\n",
    "    except Exception as e:\n",
    "        print(f\"❌ Fehler beim Speichern von {path}: {e}\")\n",
    "\n",
    "# 🔁 Haupt-Loop: alle Daten je Ticker abrufen & speichern\n",
    "for ticker in tickers:\n",
    "    print(f\"\\n🚀 Verarbeite: {ticker}\")\n",
    "    folder_path = os.path.join(base_path, ticker)\n",
    "    os.makedirs(folder_path, exist_ok=True)\n",
    "\n",
    "    try:\n",
    "        # 📉 Kursdaten via yf.download\n",
    "        hist = yf.download(ticker, group_by=\"ticker\", auto_adjust=False)\n",
    "        hist.reset_index(inplace=True)\n",
    "        hist['Date'] = pd.to_datetime(hist['Date']).dt.strftime('%Y-%m-%d')\n",
    "        save_json(hist, os.path.join(folder_path, \"shareprices.json\"))\n",
    "    except Exception as e:\n",
    "        print(f\"❌ Kursdaten-Fehler bei {ticker}: {e}\")\n",
    "\n",
    "    try:\n",
    "        # 🧠 Ticker-Objekt erstellen\n",
    "        t = yf.Ticker(ticker)\n",
    "\n",
    "        # 📄 Meta-Informationen\n",
    "        save_json(t.info, os.path.join(folder_path, \"info.json\"))\n",
    "\n",
    "        # 🗞 News\n",
    "        save_json(t.news, os.path.join(folder_path, \"news.json\"))\n",
    "\n",
    "        # 📆 Earnings\n",
    "        save_json(t.earnings_dates, os.path.join(folder_path, \"earning_dates.json\"))\n",
    "\n",
    "        # 🧾 Insider Transactions\n",
    "        save_json(t.insider_transactions, os.path.join(folder_path, \"insider_transactions.json\"))\n",
    "\n",
    "        # 🏢 Institutionelle Inhaber\n",
    "        save_json(t.institutional_holders, os.path.join(folder_path, \"institutional_holders.json\"))\n",
    "\n",
    "        # 📊 Fondsinhaber\n",
    "        save_json(t.mutualfund_holders, os.path.join(folder_path, \"mutualfund_holders.json\"))\n",
    "\n",
    "        # 📂 SEC-Filings\n",
    "        save_json(t.sec_filings, os.path.join(folder_path, \"sec_filings.json\"))\n",
    "\n",
    "        # 📈 Finanzdaten: Cashflow, Bilanz, GuV\n",
    "        save_json(t.cashflow.transpose(), os.path.join(folder_path, \"cashflow.json\"))\n",
    "        save_json(t.balance_sheet.transpose(), os.path.join(folder_path, \"balance_sheet.json\"))\n",
    "        save_json(t.financials.transpose(), os.path.join(folder_path, \"financials.json\"))\n",
    "\n",
    "    except Exception as e:\n",
    "        print(f\"❌ Fehler bei Ticker {ticker}: {e}\")\n"
   ]
  }
 ],
 "metadata": {
  "kernelspec": {
   "display_name": ".venv",
   "language": "python",
   "name": "python3"
  },
  "language_info": {
   "codemirror_mode": {
    "name": "ipython",
    "version": 3
   },
   "file_extension": ".py",
   "mimetype": "text/x-python",
   "name": "python",
   "nbconvert_exporter": "python",
   "pygments_lexer": "ipython3",
   "version": "3.13.0"
  }
 },
 "nbformat": 4,
 "nbformat_minor": 5
}
