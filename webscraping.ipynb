{
 "cells": [
  {
   "cell_type": "markdown",
   "id": "ddde9f60",
   "metadata": {},
   "source": [
    "oft wird rag gebaut mit pdfs, und wenn man so ein system aufbaut kann man sicherlich eine grössere user base ansprechen, welche das system dann auch bauen möchten. in diesem projekt möchte ich aber webscraping von yahoo finance machen, weil viele leute auch yahoo finance lesen und auf yahoo finance viel mehr informationen sind. ich kann dort webscraping machen von bestimmten aktien, fonds oder indexes und dann alle informationen scrapen von kursen, artikeln, stock prices,\n",
    "intraday trading data,\n",
    "option prices;\n",
    "company disclosures and information such as :\n",
    "financial information,\n",
    "earnings,\n",
    "analyst ratings and recommendations,\n",
    "insider trades,\n",
    "SEC filings,\n",
    "news,\n",
    "large shareholders;\n",
    "\n",
    " dann kann ich all das in einen ordner speichern und einen rag bauen auf all diese sachen. das spart einerseits zeit weil man nicht manuell nach pdfs online suchen muss zu den gewünschten themen, sondern man kann alles zeitsparend an einem ort scrapen und dann weiterbenutzen als input für das rag.\n",
    "\n",
    " denn technisch gesehen macht LangChain keinen Unterschied, ob deine Daten ursprünglich aus PDFs, TXTs, Webseiten oder JSON stammen. Wichtig ist nur, was in den vektorstore eingespeist wird, ist reiner text, nicht das ursprüngliche Dateiformat (wie z.b. pdf).\n",
    "\n",
    " Ob du folgenden Text aus einem PDF extrahierst:\n",
    " In 2023, Allianz reported a revenue of €152.7 billion and a net income of €14.2 billion.\n",
    "\n",
    "oder denselben Text aus einem JSON-Feld zusammenstellst wie:\n",
    "{ \"revenue\": \"€152.7 billion\", \"net_income\": \"€14.2 billion\" }\n",
    "\n",
    "ist für den Vektorstore und LangChain völlig egal, solange du am Ende diesen Text als Chunk übergibst.\n",
    "\n",
    "📘 Warum sieht man online meist PDFs?\n",
    "\n",
    "PDFs sind realistische Quellen (z. B. Geschäftsberichte, Studien)\n",
    "Sie demonstrieren komplexere Verarbeitung (PDF → Text → Chunk → Embedding)\n",
    "Viele Nutzer haben genau solche Dateien → Tutorials wollen für die breite Masse relevant sein\n",
    "JSON ist oft maschinenlesbar, aber in der Praxis weniger \"typisch\" für Endnutzer\n",
    "✅ Wann ist JSON sogar besser?\n",
    "\n",
    "Wenn du strukturierte, tabellarische Daten hast (Finanzdaten, ESG-KPIs, Zeitreihen)\n",
    "Wenn du Daten aus APIs sammelst (z. B. von Morningstar, AlphaVantage, Unternehmensdatenbanken)\n",
    "Wenn du dein System voll automatisiert aufbaust ohne manuelles PDF-Verarbeiten\n",
    "Wenn du bestimmte Felder gezielt extrahieren und in Textform bringen willst\n",
    "\n",
    "Ja, du kannst problemlos ein LangChain-basiertes RAG-System mit JSON-Dateien aufbauen.\n",
    "🧱 Die einzige Voraussetzung: Du musst den Inhalt in Klartext-Chunks bringen, damit das LLM damit arbeiten kann.\n",
    "\n"
   ]
  },
  {
   "cell_type": "markdown",
   "id": "00b328dd",
   "metadata": {},
   "source": [
    "# source .venv/bin/activate "
   ]
  },
  {
   "cell_type": "code",
   "execution_count": 8,
   "id": "108b3698",
   "metadata": {},
   "outputs": [],
   "source": [
    "import yfinance as yf\n",
    "import pandas\n",
    "import matplotlib\n"
   ]
  }
 ],
 "metadata": {
  "kernelspec": {
   "display_name": ".venv",
   "language": "python",
   "name": "python3"
  },
  "language_info": {
   "codemirror_mode": {
    "name": "ipython",
    "version": 3
   },
   "file_extension": ".py",
   "mimetype": "text/x-python",
   "name": "python",
   "nbconvert_exporter": "python",
   "pygments_lexer": "ipython3",
   "version": "3.13.0"
  }
 },
 "nbformat": 4,
 "nbformat_minor": 5
}
