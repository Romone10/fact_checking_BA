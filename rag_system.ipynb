{
 "cells": [
  {
   "cell_type": "markdown",
   "id": "2b6c57bf",
   "metadata": {},
   "source": [
    "im preprocessing schritt haben wir nun alle json files in text chunks umgewandelt mit text und metadata.\n",
    "nun möchten wir im ersten schritt alle .jsonl chunks aus dem folder data_chunks einlesen und umwandeln in LangChain-kompatible Document-Objekte.\n",
    "Ganz wichtig ist dass wir Text und Metadaten komplett aus den chunks übernehmen, da beide später eingesetzt werden für retrieval und filtern"
   ]
  },
  {
   "cell_type": "markdown",
   "id": "1f5d08de",
   "metadata": {},
   "source": [
    "# 1. read chunks and create Document objects\n",
    "\n",
    "Here we create the list documents. A document contains page_content and metadata.\n",
    "Diese kann man dann nach text durchsuchen und nach metadata filtern\n",
    "\n",
    "\n",
    "Ergebnis sieht dann so aus:\n",
    "\n",
    "doc = Document(\n",
    "    page_content=new_text,     # der Text inkl. bank/date/source\n",
    "    metadata=meta              # deine Metadaten: {\"bank\": ..., \"date\": ..., \"source\": ...}\n",
    ")\n"
   ]
  },
  {
   "cell_type": "code",
   "execution_count": 5,
   "id": "1057765f",
   "metadata": {},
   "outputs": [],
   "source": [
    "# imports\n",
    "\n",
    "import os\n",
    "import json\n",
    "from langchain.schema import Document\n",
    "from tqdm import tqdm\n"
   ]
  },
  {
   "cell_type": "code",
   "execution_count": 6,
   "id": "e2eb9cfd",
   "metadata": {},
   "outputs": [
    {
     "name": "stderr",
     "output_type": "stream",
     "text": [
      "100%|██████████| 62/62 [00:00<00:00, 271.00it/s]"
     ]
    },
    {
     "name": "stdout",
     "output_type": "stream",
     "text": [
      "✅ 62984 Documents loaden and embedded with metadata in the text\n"
     ]
    },
    {
     "name": "stderr",
     "output_type": "stream",
     "text": [
      "\n"
     ]
    }
   ],
   "source": [
    "# load chunks and create Document objects\n",
    "\n",
    "CHUNKS_DIR = \"data_chunks\"\n",
    "\n",
    "documents = []\n",
    "\n",
    "for file in tqdm(os.listdir(CHUNKS_DIR)):\n",
    "    if file.endswith(\".jsonl\"):\n",
    "        file_path = os.path.join(CHUNKS_DIR, file)\n",
    "        with open(file_path, \"r\", encoding=\"utf-8\") as f:\n",
    "            for line in f:\n",
    "                try:\n",
    "                    chunk = json.loads(line)\n",
    "\n",
    "                    # extract metadata\n",
    "                    meta = chunk.get(\"metadata\", {})\n",
    "                    bank = meta.get(\"bank\", \"unknown\")\n",
    "                    date = meta.get(\"date\", \"unknown\")\n",
    "                    source = meta.get(\"source\", \"unknown\")\n",
    "\n",
    "                    # add metadata also to the text (but leave the metadata also in the metadata)\n",
    "                    new_text = f\"Bank: {bank}\\nDate: {date}\\nSource: {source}\\n\\n{chunk['text']}\"\n",
    "\n",
    "                    doc = Document(\n",
    "                        page_content=new_text,\n",
    "                        metadata=meta\n",
    "                    )\n",
    "                    documents.append(doc)\n",
    "                except Exception as e:\n",
    "                    print(f\"Error in file {file}: {e}\")\n",
    "\n",
    "print(f\"✅ {len(documents)} Documents loaden and embedded with metadata in the text\")\n",
    "\n"
   ]
  },
  {
   "cell_type": "code",
   "execution_count": 7,
   "id": "09a95f7d",
   "metadata": {},
   "outputs": [
    {
     "name": "stdout",
     "output_type": "stream",
     "text": [
      "Text preview:\n",
      " Bank: UBSG\n",
      "Date: 2023-12-31\n",
      "Source: cashflow\n",
      "\n",
      "As of 2023-12-31, UBSG cash flow report:\n",
      "- Operating cash flow: 86.07 billion USD\n",
      "- Investing cash flow: 103.23 billion USD\n",
      "- Financing cash flow: -58.26 billion USD\n",
      "- Free cash flow: 84.38 billion USD\n",
      "- Beginning cash position: 195.32 billion USD\n",
      "- End \n",
      "Metadata: {'bank': 'UBSG', 'date': '2023-12-31', 'source': 'cashflow'}\n",
      "————————————————————————————————————————————————————————————————————————————————\n",
      "Text preview:\n",
      " Bank: UBSG\n",
      "Date: 2022-12-31\n",
      "Source: cashflow\n",
      "\n",
      "As of 2022-12-31, UBSG cash flow report:\n",
      "- Operating cash flow: 14.65 billion USD\n",
      "- Investing cash flow: -12.45 billion USD\n",
      "- Financing cash flow: -9.09 billion USD\n",
      "- Free cash flow: 13.00 billion USD\n",
      "- Beginning cash position: 207.88 billion USD\n",
      "- End c\n",
      "Metadata: {'bank': 'UBSG', 'date': '2022-12-31', 'source': 'cashflow'}\n",
      "————————————————————————————————————————————————————————————————————————————————\n",
      "Text preview:\n",
      " Bank: UBSG\n",
      "Date: 2021-12-31\n",
      "Source: cashflow\n",
      "\n",
      "As of 2021-12-31, UBSG cash flow report:\n",
      "- Operating cash flow: 31.43 billion USD\n",
      "- Investing cash flow: -2.12 billion USD\n",
      "- Financing cash flow: 10.35 billion USD\n",
      "- Free cash flow: 29.58 billion USD\n",
      "- Beginning cash position: 173.53 billion USD\n",
      "- End ca\n",
      "Metadata: {'bank': 'UBSG', 'date': '2021-12-31', 'source': 'cashflow'}\n",
      "————————————————————————————————————————————————————————————————————————————————\n"
     ]
    }
   ],
   "source": [
    "# show some Document-Objects\n",
    "\n",
    "for doc in documents[:3]:\n",
    "    print(\"Text preview:\\n\", doc.page_content[:300])\n",
    "    print(\"Metadata:\", doc.metadata)\n",
    "    print(\"—\" * 80)\n"
   ]
  },
  {
   "cell_type": "markdown",
   "id": "5d92d7fa",
   "metadata": {},
   "source": []
  }
 ],
 "metadata": {
  "kernelspec": {
   "display_name": ".venv",
   "language": "python",
   "name": "python3"
  },
  "language_info": {
   "codemirror_mode": {
    "name": "ipython",
    "version": 3
   },
   "file_extension": ".py",
   "mimetype": "text/x-python",
   "name": "python",
   "nbconvert_exporter": "python",
   "pygments_lexer": "ipython3",
   "version": "3.13.0"
  }
 },
 "nbformat": 4,
 "nbformat_minor": 5
}
