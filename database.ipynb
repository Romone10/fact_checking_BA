{
 "cells": [
  {
   "cell_type": "code",
   "execution_count": 4,
   "id": "9e8e1209",
   "metadata": {},
   "outputs": [
    {
     "name": "stdout",
     "output_type": "stream",
     "text": [
      "✅ Tabelle 'test' wurde erfolgreich erstellt.\n"
     ]
    }
   ],
   "source": [
    "# SQLite Datenbank & Tabelle erstellen\n",
    "\n",
    "import sqlite3\n",
    "\n",
    "# 📁 Speicherort deiner DB-Datei\n",
    "DB_PATH = \"database/llm_factcheck.db\"\n",
    "\n",
    "# Datenbank & Tabelle anlegen\n",
    "def setup_database():\n",
    "    conn = sqlite3.connect(DB_PATH)\n",
    "    cursor = conn.cursor()\n",
    "\n",
    "    cursor.execute(\"\"\"\n",
    "    CREATE TABLE IF NOT EXISTS test (\n",
    "        question_id INTEGER PRIMARY KEY AUTOINCREMENT,\n",
    "        question TEXT,\n",
    "        question_type TEXT,\n",
    "        question_strategy TEXT,\n",
    "        answer_benchmark TEXT,\n",
    "        answer_chatgpt TEXT,\n",
    "        answer_claude TEXT,\n",
    "        answer_gemini TEXT,\n",
    "        answer_deepseek TEXT,\n",
    "        answer_chatgpt_ccp REAL,\n",
    "        answer_claude_ccp REAL,\n",
    "        answer_gemini_ccp REAL,\n",
    "        answer_deepseek_ccp REAL,\n",
    "        answer_gpt_comparison TEXT,\n",
    "        facts_instruction TEXT,\n",
    "        facts_eval TEXT,\n",
    "        facts_eval_hallu TEXT,\n",
    "        facts_eval_score REAL\n",
    "    )\n",
    "    \"\"\")\n",
    "    \n",
    "    conn.commit()\n",
    "    conn.close()\n",
    "    print(\"✅ Tabelle 'test' wurde erfolgreich erstellt.\")\n",
    "\n",
    "setup_database()\n"
   ]
  },
  {
   "cell_type": "code",
   "execution_count": 8,
   "id": "470e6d78",
   "metadata": {},
   "outputs": [
    {
     "data": {
      "text/html": [
       "<div>\n",
       "<style scoped>\n",
       "    .dataframe tbody tr th:only-of-type {\n",
       "        vertical-align: middle;\n",
       "    }\n",
       "\n",
       "    .dataframe tbody tr th {\n",
       "        vertical-align: top;\n",
       "    }\n",
       "\n",
       "    .dataframe thead th {\n",
       "        text-align: right;\n",
       "    }\n",
       "</style>\n",
       "<table border=\"1\" class=\"dataframe\">\n",
       "  <thead>\n",
       "    <tr style=\"text-align: right;\">\n",
       "      <th></th>\n",
       "      <th>question_id</th>\n",
       "      <th>question</th>\n",
       "      <th>question_type</th>\n",
       "      <th>question_strategy</th>\n",
       "      <th>answer_benchmark</th>\n",
       "      <th>answer_chatgpt</th>\n",
       "      <th>answer_claude</th>\n",
       "      <th>answer_gemini</th>\n",
       "      <th>answer_deepseek</th>\n",
       "      <th>answer_chatgpt_ccp</th>\n",
       "      <th>answer_claude_ccp</th>\n",
       "      <th>answer_gemini_ccp</th>\n",
       "      <th>answer_deepseek_ccp</th>\n",
       "      <th>answer_gpt_comparison</th>\n",
       "      <th>facts_instruction</th>\n",
       "      <th>facts_eval</th>\n",
       "      <th>facts_eval_hallu</th>\n",
       "      <th>facts_eval_score</th>\n",
       "    </tr>\n",
       "  </thead>\n",
       "  <tbody>\n",
       "    <tr>\n",
       "      <th>0</th>\n",
       "      <td>1</td>\n",
       "      <td>Was ist eine Testfrage?</td>\n",
       "      <td>true test</td>\n",
       "      <td>direkte frage test</td>\n",
       "      <td>diese frage ist richtig test</td>\n",
       "      <td>None</td>\n",
       "      <td>None</td>\n",
       "      <td>None</td>\n",
       "      <td>None</td>\n",
       "      <td>None</td>\n",
       "      <td>None</td>\n",
       "      <td>None</td>\n",
       "      <td>None</td>\n",
       "      <td>None</td>\n",
       "      <td>None</td>\n",
       "      <td>None</td>\n",
       "      <td>None</td>\n",
       "      <td>None</td>\n",
       "    </tr>\n",
       "  </tbody>\n",
       "</table>\n",
       "</div>"
      ],
      "text/plain": [
       "   question_id                 question question_type   question_strategy  \\\n",
       "0            1  Was ist eine Testfrage?     true test  direkte frage test   \n",
       "\n",
       "               answer_benchmark answer_chatgpt answer_claude answer_gemini  \\\n",
       "0  diese frage ist richtig test           None          None          None   \n",
       "\n",
       "  answer_deepseek answer_chatgpt_ccp answer_claude_ccp answer_gemini_ccp  \\\n",
       "0            None               None              None              None   \n",
       "\n",
       "  answer_deepseek_ccp answer_gpt_comparison facts_instruction facts_eval  \\\n",
       "0                None                  None              None       None   \n",
       "\n",
       "  facts_eval_hallu facts_eval_score  \n",
       "0             None             None  "
      ]
     },
     "execution_count": 8,
     "metadata": {},
     "output_type": "execute_result"
    }
   ],
   "source": [
    "# SQLite Tabelle anzeigen lassen\n",
    "\n",
    "import pandas as pd\n",
    "import sqlite3\n",
    "\n",
    "DB_PATH = \"database/llm_factcheck.db\"\n",
    "\n",
    "def load_test_table():\n",
    "    conn = sqlite3.connect(DB_PATH)\n",
    "    df = pd.read_sql_query(\"SELECT * FROM test\", conn)\n",
    "    conn.close()\n",
    "    return df\n",
    "\n",
    "# anzeigen\n",
    "df = load_test_table()\n",
    "df.head()  # oder df.tail() / df.sample(5)\n",
    "\n"
   ]
  },
  {
   "cell_type": "code",
   "execution_count": 7,
   "id": "8fccd877",
   "metadata": {},
   "outputs": [
    {
     "name": "stdout",
     "output_type": "stream",
     "text": [
      "🆕 Frage-ID: 1\n"
     ]
    }
   ],
   "source": [
    "# neue fragen und antwort-benchmark einfügen\n",
    "\n",
    "def insert_question(question, question_type=None, question_strategy=None, answer_benchmark=None):\n",
    "    conn = sqlite3.connect(DB_PATH)\n",
    "    cursor = conn.cursor()\n",
    "    \n",
    "    cursor.execute(\"\"\"\n",
    "        INSERT INTO test (question, question_type, question_strategy, answer_benchmark)\n",
    "        VALUES (?, ?, ?, ?)\n",
    "    \"\"\", (question, question_type, question_strategy, answer_benchmark))\n",
    "    \n",
    "    conn.commit()\n",
    "    qid = cursor.lastrowid\n",
    "    conn.close()\n",
    "    return qid\n",
    "\n",
    "# Beispiel\n",
    "qid = insert_question(\n",
    "    \"Was ist eine Testfrage?\",\n",
    "    question_type=\"true test\",\n",
    "    question_strategy=\"direkte frage test\",\n",
    "    answer_benchmark=\"diese frage ist richtig test\"\n",
    ")\n",
    "print(\"🆕 Frage-ID:\", qid)\n"
   ]
  }
 ],
 "metadata": {
  "kernelspec": {
   "display_name": ".venv",
   "language": "python",
   "name": "python3"
  },
  "language_info": {
   "codemirror_mode": {
    "name": "ipython",
    "version": 3
   },
   "file_extension": ".py",
   "mimetype": "text/x-python",
   "name": "python",
   "nbconvert_exporter": "python",
   "pygments_lexer": "ipython3",
   "version": "3.13.0"
  }
 },
 "nbformat": 4,
 "nbformat_minor": 5
}
